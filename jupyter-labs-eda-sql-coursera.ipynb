{
 "cells": [
  {
   "cell_type": "markdown",
   "metadata": {},
   "source": [
    "<center>\n",
    "    <img src=\"https://gitlab.com/ibm/skills-network/courses/placeholder101/-/raw/master/labs/module%201/images/IDSNlogo.png\"  width=\"300\" alt=\"cognitiveclass.ai logo\"  />\n",
    "</center>\n",
    "\n",
    "<h1 align=center><font size = 5>Assignment: SQL Notebook for Peer Assignment</font></h1>\n",
    "\n",
    "Estimated time needed: **60** minutes.\n",
    "\n",
    "## Introduction\n",
    "\n",
    "Using this Python notebook you will:\n",
    "\n",
    "1.  Understand the Spacex DataSet\n",
    "2.  Load the dataset  into the corresponding table in a Db2 database\n",
    "3.  Execute SQL queries to answer assignment questions\n"
   ]
  },
  {
   "cell_type": "markdown",
   "metadata": {},
   "source": [
    "## Overview of the DataSet\n",
    "\n",
    "SpaceX has gained worldwide attention for a series of historic milestones.\n",
    "\n",
    "It is the only private company ever to return a spacecraft from low-earth orbit, which it first accomplished in December 2010.\n",
    "SpaceX advertises Falcon 9 rocket launches on its website with a cost of 62 million dollars wheras other providers cost upward of 165 million dollars each, much of the savings is because Space X can reuse the first stage.\n",
    "\n",
    "Therefore if we can determine if the first stage will land, we can determine the cost of a launch.\n",
    "\n",
    "This information can be used if an alternate company wants to bid against SpaceX for a rocket launch.\n",
    "\n",
    "This dataset includes a record for each payload carried during a SpaceX mission into outer space.\n"
   ]
  },
  {
   "cell_type": "markdown",
   "metadata": {},
   "source": [
    "### Download the datasets\n",
    "\n",
    "This assignment requires you to load the spacex dataset.\n",
    "\n",
    "In many cases the dataset to be analyzed is available as a .CSV (comma separated values) file, perhaps on the internet. Click on the link below to download and save the dataset (.CSV file):\n",
    "\n",
    "<a href=\"https://cf-courses-data.s3.us.cloud-object-storage.appdomain.cloud/IBM-DS0321EN-SkillsNetwork/labs/module_2/data/Spacex.csv?utm_medium=Exinfluencer&utm_source=Exinfluencer&utm_content=000026UJ&utm_term=10006555&utm_id=NA-SkillsNetwork-Channel-SkillsNetworkCoursesIBMDS0321ENSkillsNetwork26802033-2021-01-01\" target=\"_blank\">Spacex DataSet</a>\n"
   ]
  },
  {
   "cell_type": "markdown",
   "metadata": {},
   "source": [
    "### Store the dataset in database table\n",
    "\n",
    "**it is highly recommended to manually load the table using the database console LOAD tool in DB2**.\n",
    "\n",
    "<img src = \"https://cf-courses-data.s3.us.cloud-object-storage.appdomain.cloud/IBM-DS0321EN-SkillsNetwork/labs/module_2/images/spacexload.png\">\n",
    "\n",
    "Now open the Db2 console, open the LOAD tool, Select / Drag the .CSV file for the  dataset, Next create a New Table, and then follow the steps on-screen instructions to load the data. Name the new table as follows:\n",
    "\n",
    "**SPACEXDATASET**\n",
    "\n",
    "**Follow these steps while using old DB2 UI which is having Open Console Screen**\n",
    "\n",
    "**Note:While loading Spacex dataset, ensure that detect datatypes is disabled. Later click on the pencil icon(edit option).**\n",
    "\n",
    "1.  Change the Date Format by manually typing DD-MM-YYYY and timestamp format as DD-MM-YYYY HH\\:MM:SS.\n",
    "\n",
    "    Here you should place the cursor at Date field and manually type as DD-MM-YYYY.\n",
    "\n",
    "2.  Change the PAYLOAD_MASS\\_\\_KG\\_  datatype  to INTEGER.\n",
    "\n",
    "<img src = \"https://cf-courses-data.s3.us.cloud-object-storage.appdomain.cloud/IBM-DS0321EN-SkillsNetwork/labs/module_2/images/spacexload2.png\">\n"
   ]
  },
  {
   "cell_type": "markdown",
   "metadata": {},
   "source": [
    "**Changes to be considered when having DB2 instance with the new UI having Go to UI screen**\n",
    "\n",
    "*   Refer to this insruction in this <a href=\"https://cf-courses-data.s3.us.cloud-object-storage.appdomain.cloud/IBMDeveloperSkillsNetwork-DB0201EN-SkillsNetwork/labs/Labs_Coursera_V5/labs/Lab%20-%20Sign%20up%20for%20IBM%20Cloud%20-%20Create%20Db2%20service%20instance%20-%20Get%20started%20with%20the%20Db2%20console/instructional-labs.md.html?utm_medium=Exinfluencer&utm_source=Exinfluencer&utm_content=000026UJ&utm_term=10006555&utm_id=NA-SkillsNetwork-Channel-SkillsNetworkCoursesIBMDS0321ENSkillsNetwork26802033-2021-01-01\">link</a> for viewing  the new  Go to UI screen.\n",
    "\n",
    "*   Later click on **Data link(below SQL)**  in the Go to UI screen  and click on **Load Data** tab.\n",
    "\n",
    "*   Later browse for the downloaded spacex file.\n",
    "\n",
    "<img src=\"https://cf-courses-data.s3.us.cloud-object-storage.appdomain.cloud/IBM-DS0321EN-SkillsNetwork/labs/module_2/images/browsefile.png\" width=\"800\"/>\n",
    "\n",
    "*   Once done select the schema andload the file.\n",
    "\n",
    " <img src=\"https://cf-courses-data.s3.us.cloud-object-storage.appdomain.cloud/IBM-DS0321EN-SkillsNetwork/labs/module_2/images/spacexload3.png\" width=\"800\"/>\n"
   ]
  },
  {
   "cell_type": "code",
   "execution_count": null,
   "metadata": {},
   "outputs": [],
   "source": [
    "!pip install sqlalchemy==1.3.9\n",
    "!pip install ibm_db_sa\n",
    "!pip install ipython-sql"
   ]
  },
  {
   "cell_type": "markdown",
   "metadata": {},
   "source": [
    "### Connect to the database\n",
    "\n",
    "Let us first load the SQL extension and establish a connection with the database\n"
   ]
  },
  {
   "cell_type": "code",
   "execution_count": 1,
   "metadata": {},
   "outputs": [],
   "source": [
    "%load_ext sql"
   ]
  },
  {
   "cell_type": "markdown",
   "metadata": {},
   "source": [
    "**DB2 magic in case of old UI service credentials.**\n",
    "\n",
    "In the next cell enter your db2 connection string. Recall you created Service Credentials for your Db2 instance before. From the **uri** field of your Db2 service credentials copy everything after db2:// (except the double quote at the end) and paste it in the cell below after ibm_db_sa://\n",
    "\n",
    "<img src =\"https://cf-courses-data.s3.us.cloud-object-storage.appdomain.cloud/IBMDeveloperSkillsNetwork-DB0201EN-SkillsNetwork/labs/FinalModule_edX/images/URI.jpg\">\n",
    "\n",
    "in the following format\n",
    "\n",
    "**%sql ibm_db_sa://my-username:my-password\\@my-hostname:my-port/my-db-name**\n",
    "\n",
    "**DB2 magic in case of new UI service credentials.**\n",
    "\n",
    "<img src =\"https://cf-courses-data.s3.us.cloud-object-storage.appdomain.cloud/IBM-DS0321EN-SkillsNetwork/labs/module_2/images/servicecredentials.png\" width=600>  \n",
    "\n",
    "*   Use the following format.\n",
    "\n",
    "*   Add security=SSL at the end\n",
    "\n",
    "**%sql ibm_db_sa://my-username:my-password\\@my-hostname:my-port/my-db-name?security=SSL**\n"
   ]
  },
  {
   "cell_type": "code",
   "execution_count": 2,
   "metadata": {},
   "outputs": [],
   "source": [
    "#Replace the placeholder values with the actuals for your Db2 Service Credentials\n",
    "dsn_driver = \"{IBM DB2 ODBC DRIVER}\"\n",
    "dsn_database = \"bludb\"            # e.g. \"BLUDB\"\n",
    "dsn_hostname = \"b70af05b-76e4-4bca-a1f5-23dbb4c6a74e.c1ogj3sd0tgtu0lqde00.databases.appdomain.cloud\"            # e.g.: \"dashdb-txn-sbox-yp-dal09-04.services.dal.bluemix.net\"\n",
    "dsn_port = \"32716\"                    # e.g. \"50000\" \n",
    "dsn_protocol = \"TCPIP\"            # i.e. \"TCPIP\"\n",
    "dsn_uid = \"fsz66942\"                 # e.g. \"abc12345\"\n",
    "dsn_pwd = \"orW2Glajusshdtft\"                 # e.g. \"7dBZ3wWt9XN6$o0J\"\n",
    "dsn_security = \"SSL\"              #i.e. \"SSL\""
   ]
  },
  {
   "cell_type": "code",
   "execution_count": 4,
   "metadata": {},
   "outputs": [
    {
     "name": "stdout",
     "output_type": "stream",
     "text": [
      "Connected to database:  bludb as user:  fsz66942 on host:  b70af05b-76e4-4bca-a1f5-23dbb4c6a74e.c1ogj3sd0tgtu0lqde00.databases.appdomain.cloud\n"
     ]
    }
   ],
   "source": [
    "import ibm_db\n",
    "\n",
    "#Create database connection\n",
    "#DO NOT MODIFY THIS CELL. Just RUN it with Shift + Enter\n",
    "dsn = (\n",
    "    \"DRIVER={0};\"\n",
    "    \"DATABASE={1};\"\n",
    "    \"HOSTNAME={2};\"\n",
    "    \"PORT={3};\"\n",
    "    \"PROTOCOL={4};\"\n",
    "    \"UID={5};\"\n",
    "    \"PWD={6};\"\n",
    "    \"SECURITY={7};\").format(dsn_driver, dsn_database, dsn_hostname, dsn_port, dsn_protocol, dsn_uid, dsn_pwd,dsn_security)\n",
    "\n",
    "try:\n",
    "    conn = ibm_db.connect(dsn, \"\", \"\")\n",
    "    print (\"Connected to database: \", dsn_database, \"as user: \", dsn_uid, \"on host: \", dsn_hostname)\n",
    "\n",
    "except:\n",
    "    print (\"Unable to connect: \", ibm_db.conn_errormsg() )"
   ]
  },
  {
   "cell_type": "code",
   "execution_count": 8,
   "metadata": {},
   "outputs": [
    {
     "name": "stdout",
     "output_type": "stream",
     "text": [
      " ID: 1  FNAME: 2010-06-04\n",
      " ID: 2  FNAME: 2012-05-22\n",
      " ID: 3  FNAME: 2013-03-01\n",
      " ID: 4  FNAME: 2013-09-29\n",
      " ID: 5  FNAME: 2013-12-03\n",
      " ID: 6  FNAME: 2014-01-06\n",
      " ID: 7  FNAME: 2014-04-18\n",
      " ID: 8  FNAME: 2014-07-14\n",
      " ID: 9  FNAME: 2014-08-05\n",
      " ID: 10  FNAME: 2014-09-07\n"
     ]
    }
   ],
   "source": [
    "#%sql ibm_db_sa://\n",
    "\n",
    "#Construct the query that retrieves all rows from the INSTRUCTOR table\n",
    "selectQuery = \"select * from SPACEXTBL LIMIT 10\"\n",
    "\n",
    "#Execute the statement\n",
    "selectStmt = ibm_db.exec_immediate(conn, selectQuery)\n",
    "\n",
    "#Fetch the rest of the rows and print the ID and FNAME for those rows\n",
    "while ibm_db.fetch_row(selectStmt) != False:\n",
    "   print (\" ID:\",  ibm_db.result(selectStmt, 0), \" FNAME:\",  ibm_db.result(selectStmt, \"DATE\"))"
   ]
  },
  {
   "cell_type": "code",
   "execution_count": 11,
   "metadata": {},
   "outputs": [],
   "source": [
    "%sql ibm_db_sa://fsz66942:orW2Glajusshdtft@b70af05b-76e4-4bca-a1f5-23dbb4c6a74e.c1ogj3sd0tgtu0lqde00.databases.appdomain.cloud:32716/bludb?security=SSL"
   ]
  },
  {
   "cell_type": "code",
   "execution_count": 13,
   "metadata": {},
   "outputs": [
    {
     "name": "stdout",
     "output_type": "stream",
     "text": [
      " * ibm_db_sa://fsz66942:***@b70af05b-76e4-4bca-a1f5-23dbb4c6a74e.c1ogj3sd0tgtu0lqde00.databases.appdomain.cloud:32716/bludb\n",
      "Done.\n"
     ]
    },
    {
     "data": {
      "text/html": [
       "<table>\n",
       "    <tr>\n",
       "        <th>flightnumber</th>\n",
       "        <th>DATE</th>\n",
       "        <th>boosterversion</th>\n",
       "        <th>payloadmass</th>\n",
       "        <th>orbit</th>\n",
       "        <th>launchsite</th>\n",
       "        <th>outcome</th>\n",
       "        <th>flights</th>\n",
       "        <th>gridfins</th>\n",
       "        <th>reused</th>\n",
       "        <th>legs</th>\n",
       "        <th>landingpad</th>\n",
       "        <th>block</th>\n",
       "        <th>reusedcount</th>\n",
       "        <th>serial</th>\n",
       "        <th>longitude</th>\n",
       "        <th>latitude</th>\n",
       "    </tr>\n",
       "    <tr>\n",
       "        <td>1</td>\n",
       "        <td>2010-06-04</td>\n",
       "        <td>Falcon 9</td>\n",
       "        <td>6104</td>\n",
       "        <td>LEO</td>\n",
       "        <td>CCAFS SLC 40</td>\n",
       "        <td>None None</td>\n",
       "        <td>1</td>\n",
       "        <td>False</td>\n",
       "        <td>False</td>\n",
       "        <td>False</td>\n",
       "        <td>None</td>\n",
       "        <td>1.0</td>\n",
       "        <td>0</td>\n",
       "        <td>B0003</td>\n",
       "        <td>-80.5773660</td>\n",
       "        <td>28.5618571</td>\n",
       "    </tr>\n",
       "    <tr>\n",
       "        <td>2</td>\n",
       "        <td>2012-05-22</td>\n",
       "        <td>Falcon 9</td>\n",
       "        <td>525</td>\n",
       "        <td>LEO</td>\n",
       "        <td>CCAFS SLC 40</td>\n",
       "        <td>None None</td>\n",
       "        <td>1</td>\n",
       "        <td>False</td>\n",
       "        <td>False</td>\n",
       "        <td>False</td>\n",
       "        <td>None</td>\n",
       "        <td>1.0</td>\n",
       "        <td>0</td>\n",
       "        <td>B0005</td>\n",
       "        <td>-80.5773660</td>\n",
       "        <td>28.5618571</td>\n",
       "    </tr>\n",
       "    <tr>\n",
       "        <td>3</td>\n",
       "        <td>2013-03-01</td>\n",
       "        <td>Falcon 9</td>\n",
       "        <td>677</td>\n",
       "        <td>ISS</td>\n",
       "        <td>CCAFS SLC 40</td>\n",
       "        <td>None None</td>\n",
       "        <td>1</td>\n",
       "        <td>False</td>\n",
       "        <td>False</td>\n",
       "        <td>False</td>\n",
       "        <td>None</td>\n",
       "        <td>1.0</td>\n",
       "        <td>0</td>\n",
       "        <td>B0007</td>\n",
       "        <td>-80.5773660</td>\n",
       "        <td>28.5618571</td>\n",
       "    </tr>\n",
       "    <tr>\n",
       "        <td>4</td>\n",
       "        <td>2013-09-29</td>\n",
       "        <td>Falcon 9</td>\n",
       "        <td>500</td>\n",
       "        <td>PO</td>\n",
       "        <td>VAFB SLC 4E</td>\n",
       "        <td>False Ocean</td>\n",
       "        <td>1</td>\n",
       "        <td>False</td>\n",
       "        <td>False</td>\n",
       "        <td>False</td>\n",
       "        <td>None</td>\n",
       "        <td>1.0</td>\n",
       "        <td>0</td>\n",
       "        <td>B1003</td>\n",
       "        <td>-120.6108290</td>\n",
       "        <td>34.6320930</td>\n",
       "    </tr>\n",
       "    <tr>\n",
       "        <td>5</td>\n",
       "        <td>2013-12-03</td>\n",
       "        <td>Falcon 9</td>\n",
       "        <td>3170</td>\n",
       "        <td>GTO</td>\n",
       "        <td>CCAFS SLC 40</td>\n",
       "        <td>None None</td>\n",
       "        <td>1</td>\n",
       "        <td>False</td>\n",
       "        <td>False</td>\n",
       "        <td>False</td>\n",
       "        <td>None</td>\n",
       "        <td>1.0</td>\n",
       "        <td>0</td>\n",
       "        <td>B1004</td>\n",
       "        <td>-80.5773660</td>\n",
       "        <td>28.5618571</td>\n",
       "    </tr>\n",
       "</table>"
      ],
      "text/plain": [
       "[(1, datetime.date(2010, 6, 4), 'Falcon 9', 6104, 'LEO', 'CCAFS SLC 40', 'None None', 1, 'False', 'False', 'False', None, Decimal('1.0'), 0, 'B0003', Decimal('-80.5773660'), Decimal('28.5618571')),\n",
       " (2, datetime.date(2012, 5, 22), 'Falcon 9', 525, 'LEO', 'CCAFS SLC 40', 'None None', 1, 'False', 'False', 'False', None, Decimal('1.0'), 0, 'B0005', Decimal('-80.5773660'), Decimal('28.5618571')),\n",
       " (3, datetime.date(2013, 3, 1), 'Falcon 9', 677, 'ISS', 'CCAFS SLC 40', 'None None', 1, 'False', 'False', 'False', None, Decimal('1.0'), 0, 'B0007', Decimal('-80.5773660'), Decimal('28.5618571')),\n",
       " (4, datetime.date(2013, 9, 29), 'Falcon 9', 500, 'PO', 'VAFB SLC 4E', 'False Ocean', 1, 'False', 'False', 'False', None, Decimal('1.0'), 0, 'B1003', Decimal('-120.6108290'), Decimal('34.6320930')),\n",
       " (5, datetime.date(2013, 12, 3), 'Falcon 9', 3170, 'GTO', 'CCAFS SLC 40', 'None None', 1, 'False', 'False', 'False', None, Decimal('1.0'), 0, 'B1004', Decimal('-80.5773660'), Decimal('28.5618571'))]"
      ]
     },
     "execution_count": 13,
     "metadata": {},
     "output_type": "execute_result"
    }
   ],
   "source": [
    "%sql SELECT * FROM SPACEXTBL LIMIT 5;"
   ]
  },
  {
   "cell_type": "markdown",
   "metadata": {},
   "source": [
    "## Tasks\n",
    "\n",
    "Now write and execute SQL queries to solve the assignment tasks.\n",
    "\n",
    "### Task 1\n",
    "\n",
    "##### Display the names of the unique launch sites  in the space mission\n"
   ]
  },
  {
   "cell_type": "code",
   "execution_count": 14,
   "metadata": {},
   "outputs": [
    {
     "name": "stdout",
     "output_type": "stream",
     "text": [
      " * ibm_db_sa://fsz66942:***@b70af05b-76e4-4bca-a1f5-23dbb4c6a74e.c1ogj3sd0tgtu0lqde00.databases.appdomain.cloud:32716/bludb\n",
      "Done.\n"
     ]
    },
    {
     "data": {
      "text/html": [
       "<table>\n",
       "    <tr>\n",
       "        <th>launchsite</th>\n",
       "    </tr>\n",
       "    <tr>\n",
       "        <td>CCAFS SLC 40</td>\n",
       "    </tr>\n",
       "    <tr>\n",
       "        <td>KSC LC 39A</td>\n",
       "    </tr>\n",
       "    <tr>\n",
       "        <td>VAFB SLC 4E</td>\n",
       "    </tr>\n",
       "</table>"
      ],
      "text/plain": [
       "[('CCAFS SLC 40',), ('KSC LC 39A',), ('VAFB SLC 4E',)]"
      ]
     },
     "execution_count": 14,
     "metadata": {},
     "output_type": "execute_result"
    }
   ],
   "source": [
    "%sql  SELECT UNIQUE launchsite FROM SPACEXTBL"
   ]
  },
  {
   "cell_type": "markdown",
   "metadata": {},
   "source": [
    "### Task 2\n",
    "\n",
    "##### Display 5 records where launch sites begin with the string 'CCA'\n"
   ]
  },
  {
   "cell_type": "code",
   "execution_count": 16,
   "metadata": {},
   "outputs": [
    {
     "name": "stdout",
     "output_type": "stream",
     "text": [
      " * ibm_db_sa://fsz66942:***@b70af05b-76e4-4bca-a1f5-23dbb4c6a74e.c1ogj3sd0tgtu0lqde00.databases.appdomain.cloud:32716/bludb\n",
      "Done.\n"
     ]
    },
    {
     "data": {
      "text/html": [
       "<table>\n",
       "    <tr>\n",
       "        <th>flightnumber</th>\n",
       "        <th>DATE</th>\n",
       "        <th>boosterversion</th>\n",
       "        <th>payloadmass</th>\n",
       "        <th>orbit</th>\n",
       "        <th>launchsite</th>\n",
       "        <th>outcome</th>\n",
       "        <th>flights</th>\n",
       "        <th>gridfins</th>\n",
       "        <th>reused</th>\n",
       "        <th>legs</th>\n",
       "        <th>landingpad</th>\n",
       "        <th>block</th>\n",
       "        <th>reusedcount</th>\n",
       "        <th>serial</th>\n",
       "        <th>longitude</th>\n",
       "        <th>latitude</th>\n",
       "    </tr>\n",
       "    <tr>\n",
       "        <td>1</td>\n",
       "        <td>2010-06-04</td>\n",
       "        <td>Falcon 9</td>\n",
       "        <td>6104</td>\n",
       "        <td>LEO</td>\n",
       "        <td>CCAFS SLC 40</td>\n",
       "        <td>None None</td>\n",
       "        <td>1</td>\n",
       "        <td>False</td>\n",
       "        <td>False</td>\n",
       "        <td>False</td>\n",
       "        <td>None</td>\n",
       "        <td>1.0</td>\n",
       "        <td>0</td>\n",
       "        <td>B0003</td>\n",
       "        <td>-80.5773660</td>\n",
       "        <td>28.5618571</td>\n",
       "    </tr>\n",
       "    <tr>\n",
       "        <td>2</td>\n",
       "        <td>2012-05-22</td>\n",
       "        <td>Falcon 9</td>\n",
       "        <td>525</td>\n",
       "        <td>LEO</td>\n",
       "        <td>CCAFS SLC 40</td>\n",
       "        <td>None None</td>\n",
       "        <td>1</td>\n",
       "        <td>False</td>\n",
       "        <td>False</td>\n",
       "        <td>False</td>\n",
       "        <td>None</td>\n",
       "        <td>1.0</td>\n",
       "        <td>0</td>\n",
       "        <td>B0005</td>\n",
       "        <td>-80.5773660</td>\n",
       "        <td>28.5618571</td>\n",
       "    </tr>\n",
       "    <tr>\n",
       "        <td>3</td>\n",
       "        <td>2013-03-01</td>\n",
       "        <td>Falcon 9</td>\n",
       "        <td>677</td>\n",
       "        <td>ISS</td>\n",
       "        <td>CCAFS SLC 40</td>\n",
       "        <td>None None</td>\n",
       "        <td>1</td>\n",
       "        <td>False</td>\n",
       "        <td>False</td>\n",
       "        <td>False</td>\n",
       "        <td>None</td>\n",
       "        <td>1.0</td>\n",
       "        <td>0</td>\n",
       "        <td>B0007</td>\n",
       "        <td>-80.5773660</td>\n",
       "        <td>28.5618571</td>\n",
       "    </tr>\n",
       "    <tr>\n",
       "        <td>5</td>\n",
       "        <td>2013-12-03</td>\n",
       "        <td>Falcon 9</td>\n",
       "        <td>3170</td>\n",
       "        <td>GTO</td>\n",
       "        <td>CCAFS SLC 40</td>\n",
       "        <td>None None</td>\n",
       "        <td>1</td>\n",
       "        <td>False</td>\n",
       "        <td>False</td>\n",
       "        <td>False</td>\n",
       "        <td>None</td>\n",
       "        <td>1.0</td>\n",
       "        <td>0</td>\n",
       "        <td>B1004</td>\n",
       "        <td>-80.5773660</td>\n",
       "        <td>28.5618571</td>\n",
       "    </tr>\n",
       "    <tr>\n",
       "        <td>6</td>\n",
       "        <td>2014-01-06</td>\n",
       "        <td>Falcon 9</td>\n",
       "        <td>3325</td>\n",
       "        <td>GTO</td>\n",
       "        <td>CCAFS SLC 40</td>\n",
       "        <td>None None</td>\n",
       "        <td>1</td>\n",
       "        <td>False</td>\n",
       "        <td>False</td>\n",
       "        <td>False</td>\n",
       "        <td>None</td>\n",
       "        <td>1.0</td>\n",
       "        <td>0</td>\n",
       "        <td>B1005</td>\n",
       "        <td>-80.5773660</td>\n",
       "        <td>28.5618571</td>\n",
       "    </tr>\n",
       "</table>"
      ],
      "text/plain": [
       "[(1, datetime.date(2010, 6, 4), 'Falcon 9', 6104, 'LEO', 'CCAFS SLC 40', 'None None', 1, 'False', 'False', 'False', None, Decimal('1.0'), 0, 'B0003', Decimal('-80.5773660'), Decimal('28.5618571')),\n",
       " (2, datetime.date(2012, 5, 22), 'Falcon 9', 525, 'LEO', 'CCAFS SLC 40', 'None None', 1, 'False', 'False', 'False', None, Decimal('1.0'), 0, 'B0005', Decimal('-80.5773660'), Decimal('28.5618571')),\n",
       " (3, datetime.date(2013, 3, 1), 'Falcon 9', 677, 'ISS', 'CCAFS SLC 40', 'None None', 1, 'False', 'False', 'False', None, Decimal('1.0'), 0, 'B0007', Decimal('-80.5773660'), Decimal('28.5618571')),\n",
       " (5, datetime.date(2013, 12, 3), 'Falcon 9', 3170, 'GTO', 'CCAFS SLC 40', 'None None', 1, 'False', 'False', 'False', None, Decimal('1.0'), 0, 'B1004', Decimal('-80.5773660'), Decimal('28.5618571')),\n",
       " (6, datetime.date(2014, 1, 6), 'Falcon 9', 3325, 'GTO', 'CCAFS SLC 40', 'None None', 1, 'False', 'False', 'False', None, Decimal('1.0'), 0, 'B1005', Decimal('-80.5773660'), Decimal('28.5618571'))]"
      ]
     },
     "execution_count": 16,
     "metadata": {},
     "output_type": "execute_result"
    }
   ],
   "source": [
    "%sql SELECT * FROM SPACEXTBL WHERE launchsite LIKE 'CCA%' LIMIT 5;"
   ]
  },
  {
   "cell_type": "markdown",
   "metadata": {},
   "source": [
    "### Task 3\n",
    "\n",
    "##### Display the total payload mass carried by boosters launched by NASA (CRS)\n"
   ]
  },
  {
   "cell_type": "code",
   "execution_count": 18,
   "metadata": {},
   "outputs": [
    {
     "name": "stdout",
     "output_type": "stream",
     "text": [
      " * ibm_db_sa://fsz66942:***@b70af05b-76e4-4bca-a1f5-23dbb4c6a74e.c1ogj3sd0tgtu0lqde00.databases.appdomain.cloud:32716/bludb\n",
      "Done.\n"
     ]
    },
    {
     "data": {
      "text/html": [
       "<table>\n",
       "    <tr>\n",
       "        <th>1</th>\n",
       "    </tr>\n",
       "    <tr>\n",
       "        <td>549440</td>\n",
       "    </tr>\n",
       "</table>"
      ],
      "text/plain": [
       "[(549440,)]"
      ]
     },
     "execution_count": 18,
     "metadata": {},
     "output_type": "execute_result"
    }
   ],
   "source": [
    "%sql SELECT SUM(PAYLOADMASS) FROM SPACEXTBL ;"
   ]
  },
  {
   "cell_type": "markdown",
   "metadata": {},
   "source": [
    "### Task 4\n",
    "\n",
    "##### Display average payload mass carried by booster version F9 v1.1\n"
   ]
  },
  {
   "cell_type": "code",
   "execution_count": 19,
   "metadata": {},
   "outputs": [
    {
     "name": "stdout",
     "output_type": "stream",
     "text": [
      " * ibm_db_sa://fsz66942:***@b70af05b-76e4-4bca-a1f5-23dbb4c6a74e.c1ogj3sd0tgtu0lqde00.databases.appdomain.cloud:32716/bludb\n",
      "Done.\n"
     ]
    },
    {
     "data": {
      "text/html": [
       "<table>\n",
       "    <tr>\n",
       "        <th>1</th>\n",
       "    </tr>\n",
       "    <tr>\n",
       "        <td>6104</td>\n",
       "    </tr>\n",
       "</table>"
      ],
      "text/plain": [
       "[(6104,)]"
      ]
     },
     "execution_count": 19,
     "metadata": {},
     "output_type": "execute_result"
    }
   ],
   "source": [
    "%sql SELECT AVG(PAYLOADMASS) FROM SPACEXTBL ;"
   ]
  },
  {
   "cell_type": "markdown",
   "metadata": {},
   "source": [
    "### Task 5\n",
    "\n",
    "##### List the date when the first successful landing outcome in ground pad was acheived.\n",
    "\n",
    "*Hint:Use min function*\n"
   ]
  },
  {
   "cell_type": "code",
   "execution_count": 20,
   "metadata": {},
   "outputs": [
    {
     "name": "stdout",
     "output_type": "stream",
     "text": [
      " * ibm_db_sa://fsz66942:***@b70af05b-76e4-4bca-a1f5-23dbb4c6a74e.c1ogj3sd0tgtu0lqde00.databases.appdomain.cloud:32716/bludb\n",
      "Done.\n"
     ]
    },
    {
     "data": {
      "text/html": [
       "<table>\n",
       "    <tr>\n",
       "        <th>1</th>\n",
       "    </tr>\n",
       "    <tr>\n",
       "        <td>2015-12-22</td>\n",
       "    </tr>\n",
       "</table>"
      ],
      "text/plain": [
       "[(datetime.date(2015, 12, 22),)]"
      ]
     },
     "execution_count": 20,
     "metadata": {},
     "output_type": "execute_result"
    }
   ],
   "source": [
    "%sql SELECT MIN(DATE) FROM SPACEXTBL WHERE OUTCOME = 'True RTLS';"
   ]
  },
  {
   "cell_type": "markdown",
   "metadata": {},
   "source": [
    "### Task 6\n",
    "\n",
    "##### List the names of the boosters which have success in drone ship and have payload mass greater than 4000 but less than 6000\n"
   ]
  },
  {
   "cell_type": "code",
   "execution_count": 24,
   "metadata": {},
   "outputs": [
    {
     "name": "stdout",
     "output_type": "stream",
     "text": [
      " * ibm_db_sa://fsz66942:***@b70af05b-76e4-4bca-a1f5-23dbb4c6a74e.c1ogj3sd0tgtu0lqde00.databases.appdomain.cloud:32716/bludb\n",
      "Done.\n"
     ]
    },
    {
     "data": {
      "text/html": [
       "<table>\n",
       "    <tr>\n",
       "        <th>serial</th>\n",
       "    </tr>\n",
       "    <tr>\n",
       "        <td>B1021</td>\n",
       "    </tr>\n",
       "    <tr>\n",
       "        <td>B1022</td>\n",
       "    </tr>\n",
       "    <tr>\n",
       "        <td>B1026</td>\n",
       "    </tr>\n",
       "    <tr>\n",
       "        <td>B1031</td>\n",
       "    </tr>\n",
       "    <tr>\n",
       "        <td>B1046</td>\n",
       "    </tr>\n",
       "    <tr>\n",
       "        <td>B1059</td>\n",
       "    </tr>\n",
       "</table>"
      ],
      "text/plain": [
       "[('B1021',), ('B1022',), ('B1026',), ('B1031',), ('B1046',), ('B1059',)]"
      ]
     },
     "execution_count": 24,
     "metadata": {},
     "output_type": "execute_result"
    }
   ],
   "source": [
    "%sql SELECT UNIQUE SERIAL FROM SPACEXTBL WHERE OUTCOME = 'True ASDS' AND PAYLOADMASS > 4000 AND PAYLOADMASS < 6000;"
   ]
  },
  {
   "cell_type": "markdown",
   "metadata": {},
   "source": [
    "### Task 7\n",
    "\n",
    "##### List the total number of successful and failure mission outcomes\n"
   ]
  },
  {
   "cell_type": "code",
   "execution_count": 26,
   "metadata": {},
   "outputs": [
    {
     "name": "stdout",
     "output_type": "stream",
     "text": [
      " * ibm_db_sa://fsz66942:***@b70af05b-76e4-4bca-a1f5-23dbb4c6a74e.c1ogj3sd0tgtu0lqde00.databases.appdomain.cloud:32716/bludb\n",
      "Done.\n"
     ]
    },
    {
     "data": {
      "text/html": [
       "<table>\n",
       "    <tr>\n",
       "        <th>1</th>\n",
       "    </tr>\n",
       "    <tr>\n",
       "        <td>60</td>\n",
       "    </tr>\n",
       "</table>"
      ],
      "text/plain": [
       "[(60,)]"
      ]
     },
     "execution_count": 26,
     "metadata": {},
     "output_type": "execute_result"
    }
   ],
   "source": [
    "%sql SELECT COUNT(*) FROM SPACEXTBL WHERE OUTCOME LIKE 'True%';"
   ]
  },
  {
   "cell_type": "code",
   "execution_count": 27,
   "metadata": {},
   "outputs": [
    {
     "name": "stdout",
     "output_type": "stream",
     "text": [
      " * ibm_db_sa://fsz66942:***@b70af05b-76e4-4bca-a1f5-23dbb4c6a74e.c1ogj3sd0tgtu0lqde00.databases.appdomain.cloud:32716/bludb\n",
      "Done.\n"
     ]
    },
    {
     "data": {
      "text/html": [
       "<table>\n",
       "    <tr>\n",
       "        <th>1</th>\n",
       "    </tr>\n",
       "    <tr>\n",
       "        <td>9</td>\n",
       "    </tr>\n",
       "</table>"
      ],
      "text/plain": [
       "[(9,)]"
      ]
     },
     "execution_count": 27,
     "metadata": {},
     "output_type": "execute_result"
    }
   ],
   "source": [
    "%sql SELECT COUNT(*) FROM SPACEXTBL WHERE OUTCOME LIKE 'False%';"
   ]
  },
  {
   "cell_type": "markdown",
   "metadata": {},
   "source": [
    "### Task 8\n",
    "\n",
    "##### List the   names of the booster_versions which have carried the maximum payload mass. Use a subquery\n"
   ]
  },
  {
   "cell_type": "code",
   "execution_count": 28,
   "metadata": {},
   "outputs": [
    {
     "name": "stdout",
     "output_type": "stream",
     "text": [
      " * ibm_db_sa://fsz66942:***@b70af05b-76e4-4bca-a1f5-23dbb4c6a74e.c1ogj3sd0tgtu0lqde00.databases.appdomain.cloud:32716/bludb\n",
      "Done.\n"
     ]
    },
    {
     "data": {
      "text/html": [
       "<table>\n",
       "    <tr>\n",
       "        <th>serial</th>\n",
       "    </tr>\n",
       "    <tr>\n",
       "        <td>B1048</td>\n",
       "    </tr>\n",
       "    <tr>\n",
       "        <td>B1051</td>\n",
       "    </tr>\n",
       "</table>"
      ],
      "text/plain": [
       "[('B1048',), ('B1051',)]"
      ]
     },
     "execution_count": 28,
     "metadata": {},
     "output_type": "execute_result"
    }
   ],
   "source": [
    "%sql SELECT UNIQUE SERIAL FROM SPACEXTBL WHERE payloadmass in (SELECT max(payloadmass)FROM SPACEXTBL);"
   ]
  },
  {
   "cell_type": "markdown",
   "metadata": {},
   "source": [
    "### Task 9\n",
    "\n",
    "##### List the failed landing_outcomes in drone ship, their booster versions, and launch site names for in year 2015\n"
   ]
  },
  {
   "cell_type": "code",
   "execution_count": 33,
   "metadata": {},
   "outputs": [
    {
     "name": "stdout",
     "output_type": "stream",
     "text": [
      " * ibm_db_sa://fsz66942:***@b70af05b-76e4-4bca-a1f5-23dbb4c6a74e.c1ogj3sd0tgtu0lqde00.databases.appdomain.cloud:32716/bludb\n",
      "Done.\n"
     ]
    },
    {
     "data": {
      "text/html": [
       "<table>\n",
       "    <tr>\n",
       "        <th>flightnumber</th>\n",
       "        <th>DATE</th>\n",
       "        <th>boosterversion</th>\n",
       "        <th>payloadmass</th>\n",
       "        <th>orbit</th>\n",
       "        <th>launchsite</th>\n",
       "        <th>outcome</th>\n",
       "        <th>flights</th>\n",
       "        <th>gridfins</th>\n",
       "        <th>reused</th>\n",
       "        <th>legs</th>\n",
       "        <th>landingpad</th>\n",
       "        <th>block</th>\n",
       "        <th>reusedcount</th>\n",
       "        <th>serial</th>\n",
       "        <th>longitude</th>\n",
       "        <th>latitude</th>\n",
       "    </tr>\n",
       "    <tr>\n",
       "        <td>12</td>\n",
       "        <td>2015-01-10</td>\n",
       "        <td>Falcon 9</td>\n",
       "        <td>2395</td>\n",
       "        <td>ISS</td>\n",
       "        <td>CCAFS SLC 40</td>\n",
       "        <td>False ASDS</td>\n",
       "        <td>1</td>\n",
       "        <td>True</td>\n",
       "        <td>False</td>\n",
       "        <td>True</td>\n",
       "        <td>5e9e3032383ecb761634e7cb</td>\n",
       "        <td>1.0</td>\n",
       "        <td>0</td>\n",
       "        <td>B1012</td>\n",
       "        <td>-80.5773660</td>\n",
       "        <td>28.5618571</td>\n",
       "    </tr>\n",
       "    <tr>\n",
       "        <td>14</td>\n",
       "        <td>2015-04-14</td>\n",
       "        <td>Falcon 9</td>\n",
       "        <td>1898</td>\n",
       "        <td>ISS</td>\n",
       "        <td>CCAFS SLC 40</td>\n",
       "        <td>False ASDS</td>\n",
       "        <td>1</td>\n",
       "        <td>True</td>\n",
       "        <td>False</td>\n",
       "        <td>True</td>\n",
       "        <td>5e9e3032383ecb761634e7cb</td>\n",
       "        <td>1.0</td>\n",
       "        <td>0</td>\n",
       "        <td>B1015</td>\n",
       "        <td>-80.5773660</td>\n",
       "        <td>28.5618571</td>\n",
       "    </tr>\n",
       "</table>"
      ],
      "text/plain": [
       "[(12, datetime.date(2015, 1, 10), 'Falcon 9', 2395, 'ISS', 'CCAFS SLC 40', 'False ASDS', 1, 'True', 'False', 'True', '5e9e3032383ecb761634e7cb', Decimal('1.0'), 0, 'B1012', Decimal('-80.5773660'), Decimal('28.5618571')),\n",
       " (14, datetime.date(2015, 4, 14), 'Falcon 9', 1898, 'ISS', 'CCAFS SLC 40', 'False ASDS', 1, 'True', 'False', 'True', '5e9e3032383ecb761634e7cb', Decimal('1.0'), 0, 'B1015', Decimal('-80.5773660'), Decimal('28.5618571'))]"
      ]
     },
     "execution_count": 33,
     "metadata": {},
     "output_type": "execute_result"
    }
   ],
   "source": [
    "%sql SELECT * FROM SPACEXTBL WHERE OUTCOME LIKE 'False ASDS%' and year(date)=2015;"
   ]
  },
  {
   "cell_type": "markdown",
   "metadata": {},
   "source": [
    "### Task 10\n",
    "\n",
    "##### Rank the count of landing outcomes (such as Failure (drone ship) or Success (ground pad)) between the date 2010-06-04 and 2017-03-20, in descending order\n"
   ]
  },
  {
   "cell_type": "code",
   "execution_count": 37,
   "metadata": {},
   "outputs": [
    {
     "name": "stdout",
     "output_type": "stream",
     "text": [
      " * ibm_db_sa://fsz66942:***@b70af05b-76e4-4bca-a1f5-23dbb4c6a74e.c1ogj3sd0tgtu0lqde00.databases.appdomain.cloud:32716/bludb\n",
      "Done.\n"
     ]
    },
    {
     "data": {
      "text/html": [
       "<table>\n",
       "    <tr>\n",
       "        <th>outcome</th>\n",
       "        <th>2</th>\n",
       "    </tr>\n",
       "    <tr>\n",
       "        <td>None None</td>\n",
       "        <td>9</td>\n",
       "    </tr>\n",
       "    <tr>\n",
       "        <td>True ASDS</td>\n",
       "        <td>5</td>\n",
       "    </tr>\n",
       "    <tr>\n",
       "        <td>False ASDS</td>\n",
       "        <td>4</td>\n",
       "    </tr>\n",
       "    <tr>\n",
       "        <td>True Ocean</td>\n",
       "        <td>3</td>\n",
       "    </tr>\n",
       "    <tr>\n",
       "        <td>True RTLS</td>\n",
       "        <td>3</td>\n",
       "    </tr>\n",
       "    <tr>\n",
       "        <td>False Ocean</td>\n",
       "        <td>2</td>\n",
       "    </tr>\n",
       "    <tr>\n",
       "        <td>None ASDS</td>\n",
       "        <td>2</td>\n",
       "    </tr>\n",
       "</table>"
      ],
      "text/plain": [
       "[('None None', 9),\n",
       " ('True ASDS', 5),\n",
       " ('False ASDS', 4),\n",
       " ('True Ocean', 3),\n",
       " ('True RTLS', 3),\n",
       " ('False Ocean', 2),\n",
       " ('None ASDS', 2)]"
      ]
     },
     "execution_count": 37,
     "metadata": {},
     "output_type": "execute_result"
    }
   ],
   "source": [
    "%sql SELECT outcome, count(*) FROM SPACEXTBL WHERE date between '2010-06-04 ' and '2017-03-20' group by outcome order by count(*) desc;"
   ]
  },
  {
   "cell_type": "markdown",
   "metadata": {},
   "source": [
    "### Reference Links\n",
    "\n",
    "*   <a href =\"https://cf-courses-data.s3.us.cloud-object-storage.appdomain.cloud/IBMDeveloperSkillsNetwork-DB0201EN-SkillsNetwork/labs/Labs_Coursera_V5/labs/Lab%20-%20String%20Patterns%20-%20Sorting%20-%20Grouping/instructional-labs.md.html?utm_medium=Exinfluencer&utm_source=Exinfluencer&utm_content=000026UJ&utm_term=10006555&utm_id=NA-SkillsNetwork-Channel-SkillsNetworkCoursesIBMDS0321ENSkillsNetwork26802033-2021-01-01&origin=www.coursera.org\">Hands-on Lab : String Patterns, Sorting and Grouping</a>\n",
    "\n",
    "*   <a  href=\"https://cf-courses-data.s3.us.cloud-object-storage.appdomain.cloud/IBMDeveloperSkillsNetwork-DB0201EN-SkillsNetwork/labs/Labs_Coursera_V5/labs/Lab%20-%20Built-in%20functions%20/Hands-on_Lab__Built-in_Functions.md.html?utm_medium=Exinfluencer&utm_source=Exinfluencer&utm_content=000026UJ&utm_term=10006555&utm_id=NA-SkillsNetwork-Channel-SkillsNetworkCoursesIBMDS0321ENSkillsNetwork26802033-2021-01-01&origin=www.coursera.org\">Hands-on Lab: Built-in functions</a>\n",
    "\n",
    "*   <a  href=\"https://cf-courses-data.s3.us.cloud-object-storage.appdomain.cloud/IBMDeveloperSkillsNetwork-DB0201EN-SkillsNetwork/labs/Labs_Coursera_V5/labs/Lab%20-%20Sub-queries%20and%20Nested%20SELECTs%20/instructional-labs.md.html?utm_medium=Exinfluencer&utm_source=Exinfluencer&utm_content=000026UJ&utm_term=10006555&utm_id=NA-SkillsNetwork-Channel-SkillsNetworkCoursesIBMDS0321ENSkillsNetwork26802033-2021-01-01&origin=www.coursera.org\">Hands-on Lab : Sub-queries and Nested SELECT Statements</a>\n",
    "\n",
    "*   <a href=\"https://cf-courses-data.s3.us.cloud-object-storage.appdomain.cloud/IBMDeveloperSkillsNetwork-DB0201EN-SkillsNetwork/labs/Module%205/DB0201EN-Week3-1-3-SQLmagic.ipynb?utm_medium=Exinfluencer&utm_source=Exinfluencer&utm_content=000026UJ&utm_term=10006555&utm_id=NA-SkillsNetwork-Channel-SkillsNetworkCoursesIBMDS0321ENSkillsNetwork26802033-2021-01-01\">Hands-on Tutorial: Accessing Databases with SQL magic</a>\n",
    "\n",
    "*   <a href= \"https://cf-courses-data.s3.us.cloud-object-storage.appdomain.cloud/IBMDeveloperSkillsNetwork-DB0201EN-SkillsNetwork/labs/Module%205/DB0201EN-Week3-1-4-Analyzing.ipynb?utm_medium=Exinfluencer&utm_source=Exinfluencer&utm_content=000026UJ&utm_term=10006555&utm_id=NA-SkillsNetwork-Channel-SkillsNetworkCoursesIBMDS0321ENSkillsNetwork26802033-2021-01-01\">Hands-on Lab: Analyzing a real World Data Set</a>\n"
   ]
  },
  {
   "cell_type": "markdown",
   "metadata": {},
   "source": [
    "## Author(s)\n",
    "\n",
    "<h4> Lakshmi Holla </h4>\n"
   ]
  },
  {
   "cell_type": "markdown",
   "metadata": {},
   "source": [
    "## Other Contributors\n",
    "\n",
    "<h4> Rav Ahuja </h4>\n"
   ]
  },
  {
   "cell_type": "markdown",
   "metadata": {},
   "source": [
    "## Change log\n",
    "\n",
    "| Date       | Version | Changed by    | Change Description        |\n",
    "| ---------- | ------- | ------------- | ------------------------- |\n",
    "| 2021-10-12 | 0.4     | Lakshmi Holla | Changed markdown          |\n",
    "| 2021-08-24 | 0.3     | Lakshmi Holla | Added library update      |\n",
    "| 2021-07-09 | 0.2     | Lakshmi Holla | Changes made in magic sql |\n",
    "| 2021-05-20 | 0.1     | Lakshmi Holla | Created Initial Version   |\n"
   ]
  },
  {
   "cell_type": "markdown",
   "metadata": {},
   "source": [
    "## <h3 align=\"center\"> © IBM Corporation 2021. All rights reserved. <h3/>\n"
   ]
  }
 ],
 "metadata": {
  "kernelspec": {
   "display_name": "Python 3",
   "language": "python",
   "name": "python3"
  },
  "language_info": {
   "codemirror_mode": {
    "name": "ipython",
    "version": 3
   },
   "file_extension": ".py",
   "mimetype": "text/x-python",
   "name": "python",
   "nbconvert_exporter": "python",
   "pygments_lexer": "ipython3",
   "version": "3.8.3"
  }
 },
 "nbformat": 4,
 "nbformat_minor": 4
}
